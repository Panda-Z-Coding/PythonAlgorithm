{
 "cells": [
  {
   "cell_type": "markdown",
   "metadata": {},
   "source": [
    "# **collections**"
   ]
  },
  {
   "cell_type": "markdown",
   "metadata": {},
   "source": [
    "## 1. Counter : 计数器\n",
    "\n",
    "```python\n",
    "from collections import Counter\n",
    "``` \n",
    "- 如果不form的话，每次调用Counter的时候都要collections.Counter()\n",
    "- 初始化：\n",
    "  - Counter(可迭代对象)\n",
    "  - Counter(字典)\n",
    "```python\n",
    "    from collections import Counter\n",
    "    a = Counter()                #空counter\n",
    "    a = Counter('Hello World')   #统计每个字符出现次数\n",
    "    a = Counter([1,2,3,4,5,6,1]) #统计每个元素出现的次数\n",
    "\n",
    "    '''\n",
    "    利用字典初始化每个元素（key）和出现次数（value）\n",
    "    '''\n",
    "    a = Counter({'a':1,'b':3})\n",
    "    a = Counter(a=1,b=3)\n",
    "```\n",
    "\n",
    "### Counter类常用函数\n",
    "1. most_common(k) -> 筛选出出现频率 topk\n",
    "2. elements() -> 返回一个迭代器，每个元素重复对应次数\n",
    "3. clear() -> 清空\n",
    "4. 字典的函数Counter也可以使用\n",
    "5. 数学运算\n",
    "    "
   ]
  },
  {
   "cell_type": "code",
   "execution_count": 17,
   "metadata": {},
   "outputs": [
    {
     "name": "stdout",
     "output_type": "stream",
     "text": [
      "{'apple': 2, 'banana': 1}\n",
      "Counter({'apple': 2, 'banana': 1})\n",
      "<class 'collections.Counter'>\n",
      "apple\n",
      "banana\n",
      "apple 2\n",
      "banana 1\n"
     ]
    }
   ],
   "source": [
    "from collections import Counter\n",
    "a = [\"apple\", \"banana\", \"apple\"]\n",
    "b = {} #空字典\n",
    "for x in a:\n",
    "    b[x] = b.get(x, 0) + 1\n",
    "print(b)\n",
    "\n",
    "c = Counter(a) #! 类此字典\n",
    "print(c)\n",
    "print(type(c))\n",
    "\n",
    "for k in c: #默认遍历 key\n",
    "    print(k)\n",
    "    \n",
    "for k, v in c.items():\n",
    "    print(k, v)"
   ]
  },
  {
   "cell_type": "markdown",
   "metadata": {},
   "source": [
    "## 2. deque : 双端队列\n",
    "\n",
    "- 和列表很像，但是可以指定添加和删除的方向（左右）\n",
    "- 方法\n",
    "  - clear()\n",
    "  - copy()\n",
    "  - count(x)\n",
    "  - index(x[,start[, stop]])\n",
    "  - reverse()\n",
    "  - rotate(n=1) -> 整体默认向做移动n步，负数就向左（滚动）\n",
    "  - maxlen()"
   ]
  },
  {
   "cell_type": "code",
   "execution_count": 18,
   "metadata": {},
   "outputs": [
    {
     "name": "stdout",
     "output_type": "stream",
     "text": [
      "deque([0, 1, 2, 3, 4, 5, 6])\n",
      "deque([1, 2, 3, 4, 5])\n",
      "deque([1, 2, 3, 4, 5, 6, 7, 8])\n",
      "deque([2, 3, 4, 5, 6, 7, 8])\n",
      "deque([0, -1, 2, 3, 4, 5, 6, 7, 8])\n",
      "deque([0, 0, -1, 2, 3, 4, 5, 6, 7, 8])\n",
      "deque([8, 0, 0, -1, 2, 3, 4, 5, 6, 7])\n"
     ]
    }
   ],
   "source": [
    "from collections import deque\n",
    "\n",
    "a = deque([1,2,3,4,5])\n",
    "a.append(6)\n",
    "a.appendleft(0) # 从左边添加\n",
    "print(a)\n",
    "a.pop()\n",
    "a.popleft()\n",
    "print(a)\n",
    "a.extend([6,7,8])\n",
    "print(a)\n",
    "a.remove(1)\n",
    "print(a)\n",
    "a.extendleft([-1,0])\n",
    "print(a)\n",
    "a.insert(0, 0)\n",
    "print(a)\n",
    "a.rotate()\n",
    "print(a)"
   ]
  },
  {
   "cell_type": "markdown",
   "metadata": {},
   "source": [
    "## 3. defaultdict : 有默认值的字典\n",
    "\n",
    "- 自动为不存在的`键`生成`默认值！`"
   ]
  },
  {
   "cell_type": "markdown",
   "metadata": {},
   "source": [
    "- 导入: \n",
    "```python\n",
    "from collections import defaultdict\n",
    "```"
   ]
  },
  {
   "cell_type": "code",
   "execution_count": 19,
   "metadata": {},
   "outputs": [],
   "source": [
    "from collections import defaultdict"
   ]
  },
  {
   "cell_type": "markdown",
   "metadata": {},
   "source": [
    "- 可以充当C++中的vector使用\n",
    "当我们需要映射边的关系的时候(树, 图)\n",
    "\n",
    "可以使用 defaultdict(list)"
   ]
  },
  {
   "cell_type": "code",
   "execution_count": 27,
   "metadata": {},
   "outputs": [
    {
     "name": "stdout",
     "output_type": "stream",
     "text": [
      "defaultdict(<class 'list'>, {1: [4]})\n",
      "defaultdict(<class 'list'>, {1: [4, 2], 8: [1]})\n",
      "[0, 4]\n"
     ]
    }
   ],
   "source": [
    "e = defaultdict(list)\n",
    "# 在e中如果没有这个元素的话， 就会自动创建一个list对象和当前key映射\n",
    "\n",
    "e[1].append(4)\n",
    "print(e) #? {1: [4]}\n",
    "\n",
    "e[8].append(1)\n",
    "e[1].append(2)\n",
    "print(e)\n",
    "\n",
    "a = defaultdict(lambda: [0, 0])\n",
    "a[2][1] = 4\n",
    "print(a[2])"
   ]
  },
  {
   "cell_type": "markdown",
   "metadata": {},
   "source": [
    "### 1. 可以创建邻接表"
   ]
  },
  {
   "cell_type": "code",
   "execution_count": 25,
   "metadata": {},
   "outputs": [
    {
     "name": "stdout",
     "output_type": "stream",
     "text": [
      "defaultdict(<class 'list'>, {1: [2, 3], 2: [3], 3: [1]})\n"
     ]
    }
   ],
   "source": [
    "edges = [(1, 2), (2, 3), (3, 1), (1, 3)]\n",
    "graph = defaultdict(list)\n",
    "for u, v in edges:\n",
    "    graph[u].append(v)\n",
    "print(graph)"
   ]
  },
  {
   "cell_type": "markdown",
   "metadata": {},
   "source": [
    "## 4. OrderedDict : 有序字典"
   ]
  }
 ],
 "metadata": {
  "kernelspec": {
   "display_name": "Python 3",
   "language": "python",
   "name": "python3"
  },
  "language_info": {
   "codemirror_mode": {
    "name": "ipython",
    "version": 3
   },
   "file_extension": ".py",
   "mimetype": "text/x-python",
   "name": "python",
   "nbconvert_exporter": "python",
   "pygments_lexer": "ipython3",
   "version": "3.8.6"
  }
 },
 "nbformat": 4,
 "nbformat_minor": 2
}
