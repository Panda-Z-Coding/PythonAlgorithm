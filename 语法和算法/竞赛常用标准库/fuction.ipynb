{
 "cells": [
  {
   "cell_type": "markdown",
   "metadata": {},
   "source": [
    "# 函数的定义和使用\n",
    "\n",
    "## 传参机制\n",
    "- 1. **形参 & 实参**\n",
    "  - 一般来说函数内部声明的变量都是**形式参数**\n",
    "- 值传递\n",
    "  - 复制一份进函数，参数是不可变类型（**字符串，数字，元组**）\n",
    "  - 单方向的传递\n",
    "- 引用传递\n",
    "  - 传入自己本身，一起变化\n",
    "  - 参数是可变类型（列表，字典）\n",
    "\n",
    "- 传递列表的**tips**：\n",
    "  - 传递副本的两种方式：\n",
    "    - 1. list.copy()\n",
    "    - 2. list[:]\n",
    "- 2. **位置参数**\n",
    "  - 个数相同，按位置**一一对应**\n",
    "  - 关键字传参：按照**名字来赋值**（乱序🉑）\n",
    "  - 先位置后关键字（不能先关键字后位置）（不推荐）\n",
    "- 3. 默认参数\n",
    "  - 在定义函数的时候给形参的默认值（默认值放在后面）\n",
    "  - def name(a, b, c=3, d=4):\n",
    "- 4. **`不定长参数 - 元组!`**\n",
    "  - 在形式参数前面加上`*` ，可以按照位置参数的格式传递多个参数\n",
    "  - 带 * 的参数会以**元组（tuple）**的形式存储\n",
    "    - def f(a, b, *argtuple):\n",
    "- 5. **`不定长参数 - 字典`**\n",
    "  - 在形式参数前面加上`**` ，可以按照位置参数的格式传递多个参数\n",
    "  - 参数以 **字典（dict）**的形式存储\n"
   ]
  },
  {
   "cell_type": "code",
   "execution_count": 9,
   "metadata": {},
   "outputs": [
    {
     "name": "stdout",
     "output_type": "stream",
     "text": [
      "(-1, -2, -3, 4, 5)\n",
      "<class 'tuple'>\n",
      "15\n",
      "1\n",
      "2\n",
      "{'M': 1, 'N': 2, 'c': 3}\n"
     ]
    }
   ],
   "source": [
    "from re import M\n",
    "\n",
    "\n",
    "def abs_sum(*arg): # 元组\n",
    "    ans = 0\n",
    "    print(arg)\n",
    "    print(type(arg))\n",
    "    for x in arg:\n",
    "        ans += abs(x)\n",
    "    return ans\n",
    "\n",
    "print(abs_sum(-1,-2,-3,4,5))\n",
    "\n",
    "def f(a, b, **agrs):\n",
    "    print(a)\n",
    "    print(b)\n",
    "    print(agrs)\n",
    "    \n",
    "f(1, 2, M=1, N=2, c=3) # key不能和已经有点形参重名\n",
    "\n"
   ]
  },
  {
   "cell_type": "markdown",
   "metadata": {},
   "source": [
    "# 变量作用范围\n",
    "\n",
    "- 函数内全局变量的声明 - **`global`**\n"
   ]
  }
 ],
 "metadata": {
  "kernelspec": {
   "display_name": "Python 3",
   "language": "python",
   "name": "python3"
  },
  "language_info": {
   "codemirror_mode": {
    "name": "ipython",
    "version": 3
   },
   "file_extension": ".py",
   "mimetype": "text/x-python",
   "name": "python",
   "nbconvert_exporter": "python",
   "pygments_lexer": "ipython3",
   "version": "3.8.6"
  }
 },
 "nbformat": 4,
 "nbformat_minor": 2
}
