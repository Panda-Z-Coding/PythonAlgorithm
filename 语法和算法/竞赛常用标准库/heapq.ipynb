{
 "cells": [
  {
   "cell_type": "markdown",
   "metadata": {},
   "source": [
    "# heapq库\n",
    "- 堆：完全二叉树，每个节点小于等于子节点（默认为最小堆（堆顶最小））\n",
    "- 左子节点 -> 2k+1\n",
    "- 右子节点 -> 2k+2"
   ]
  },
  {
   "cell_type": "code",
   "execution_count": 15,
   "metadata": {},
   "outputs": [
    {
     "name": "stdout",
     "output_type": "stream",
     "text": [
      "[2, 6, 3, 11, 8, 9, 4]\n",
      "2\n",
      "[3, 6, 4, 11, 8, 9]\n",
      "[1, 6, 3, 11, 8, 9, 4]\n",
      "1 3 4 6 8 9 11 \n",
      "[-11, -8, -9, -6, -2, -3, -4]\n",
      "[-9, -8, -4, -6, -2, -3, -1]\n",
      "9 8 6 4 3 2 1 "
     ]
    }
   ],
   "source": [
    "import heapq\n",
    "\n",
    "l = [11,2,3,6,8,9,4]\n",
    "heapq.heapify(l)\n",
    "print(l) # 操作列表本身\n",
    "print(heapq.heappop(l)) # 把最小值删除\n",
    "print(l)\n",
    "heapq.heappush(l, 1)\n",
    "print(l)  \n",
    "while len(l):\n",
    "    print(heapq.heappop(l),end=' ')\n",
    "    \n",
    "print()\n",
    "'''\n",
    "heapq.heapify()  # 排序传入的列表(默认小根堆)\n",
    "heapq.heappop()  # 弹出堆顶元素\n",
    "heapq.heappush() # 压入一个元素到这个列表里\n",
    "'''\n",
    "\n",
    "#! 大根堆！\n",
    "a = [-11,-2,-3,-6,-8,-9,-4] # 全部加一个负号，输出的时候再加一个负号\n",
    "heapq.heapify(a)\n",
    "print(a)\n",
    "heapq.heappushpop(a, -1) # 先压入在pop\n",
    "print(a)\n",
    "\n",
    "while len(a): #while循环的妙用\n",
    "    print(-heapq.heappop(a), end=' ')\n"
   ]
  },
  {
   "cell_type": "code",
   "execution_count": null,
   "metadata": {},
   "outputs": [],
   "source": []
  }
 ],
 "metadata": {
  "kernelspec": {
   "display_name": "Python 3",
   "language": "python",
   "name": "python3"
  },
  "language_info": {
   "codemirror_mode": {
    "name": "ipython",
    "version": 3
   },
   "file_extension": ".py",
   "mimetype": "text/x-python",
   "name": "python",
   "nbconvert_exporter": "python",
   "pygments_lexer": "ipython3",
   "version": "3.8.6"
  }
 },
 "nbformat": 4,
 "nbformat_minor": 2
}
