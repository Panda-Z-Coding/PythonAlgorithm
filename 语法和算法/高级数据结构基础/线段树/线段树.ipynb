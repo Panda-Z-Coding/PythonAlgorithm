{
 "cells": [
  {
   "cell_type": "markdown",
   "metadata": {},
   "source": [
    "# 线段树?? -> 区间操作利器\n",
    "\n",
    "- **先回想一下下有几种数据结构可以操作区间的信息**\n",
    "\n",
    "| --- | 区间求和 | 区间最值 | 区间修改 | 单点修改 |\n",
    "| --- |:---: | :---: | :---: | :---: |\n",
    "| 前缀和 | ✔ | ❌ | ❌ | ❌ |\n",
    "| 树状数组 | ✔ | ✔ | ❌ | ✔ | \n",
    "| 线段树 | ✔ | ✔ | ✔ | ✔ |\n",
    "\n",
    "## 那么线段树就是可以在O(logN)时间内实现这些操作的数据结构, 主要运用了分治算法\n",
    "\n",
    "# 基本结构与建树\n",
    "\n",
    "- **过程**：\n",
    "  - 线段树将每个长度不为1的区间划分成左右两个区间进行递归求解，把整个线段划分成为一个类似二叉搜索树的结构，通过合并左右两区间信息来求的该区间的信息\n",
    "\n",
    "---\n",
    "\n",
    "通过观察发现，di的左儿子节点是 d_(i*2)，右儿子节点 d_(i*2 + 1) \n",
    "\n",
    "- 假设总的区间为 [s, t]\n",
    "- 左儿子节点 => [s, (t + s) // 2]\n",
    "- 右儿子节点 => [(s + t) // 2 + 1, t]\n",
    "\n",
    "- **实现过程**\n",
    "  - 通过递归建树。假设当前根节点为p，如果根节的管理区域的区间长度已经是1，则直接通过原始数组的值初始化该节点。否则将该区间从中点处分割为两个子区间，分别递归进入左右子节点进行建树，最后合并两个子节点的信息\n",
    "\n",
    "\n",
    "\n"
   ]
  },
  {
   "cell_type": "code",
   "execution_count": 4,
   "metadata": {},
   "outputs": [
    {
     "name": "stdout",
     "output_type": "stream",
     "text": [
      "0 15 6 9 3 3 4 5 1 2 0 0 0 0 0 0 0 0 0 0\n"
     ]
    }
   ],
   "source": [
    "def build(s, t, p):\n",
    "    #? 对于区间 [s, t] 建立线段树, 当前的根节点编号为p\n",
    "    if s == t:\n",
    "        # 区间长度为1, 到达叶子节点\n",
    "        d[p] = tree[s]\n",
    "        return \n",
    "    m = (s + t) >> 1\n",
    "    # 递归进入左右子节点\n",
    "    build(s, m, p << 1) # 左边节点\n",
    "    build(m + 1, t, (p << 1) + 1) # 右边节点\n",
    "    d[p] = d[p << 1] + d[(p << 1) + 1] #? 合并左右节点的信息\n",
    "    #! 注意: << 的优先级比 + 低 ！\n",
    "tree = [1, 2, 3, 4, 5]\n",
    "n = len(tree)\n",
    "d = [0] * (4 * n)\n",
    "build(0, n - 1, 1)\n",
    "print(*d)\n",
    "    \n",
    "    "
   ]
  },
  {
   "cell_type": "markdown",
   "metadata": {},
   "source": [
    "## 线段树的区间查询\n",
    "\n"
   ]
  },
  {
   "cell_type": "code",
   "execution_count": 8,
   "metadata": {},
   "outputs": [
    {
     "name": "stdout",
     "output_type": "stream",
     "text": [
      "9\n"
     ]
    }
   ],
   "source": [
    "def get_sum(l, r, s, t, p):\n",
    "    # [l, r] => 为查询区间\n",
    "    # [s, t] => 为当前节点包含的区间\n",
    "    # p => 当前节点编号\n",
    "    \n",
    "    if l <= s and t <= r:\n",
    "        # 当前节点包含的区间是查询区间的子集, 返回当前节点信息\n",
    "        return d[p]\n",
    "    m = (s + t) >> 1\n",
    "    sum_ = 0\n",
    "    # 向左右子区间递归求解\n",
    "    if l <= m:\n",
    "        sum_ += get_sum(l, r, s, m, p << 1)\n",
    "    if r > m:\n",
    "        sum_ += get_sum(l, r, m + 1, t, (p << 1) + 1)\n",
    "    return sum_\n",
    "\n",
    "print(get_sum(1, 3, 0, n - 1, 1)) # 2 + 3 + 4\n",
    "    "
   ]
  },
  {
   "cell_type": "code",
   "execution_count": null,
   "metadata": {},
   "outputs": [],
   "source": []
  }
 ],
 "metadata": {
  "kernelspec": {
   "display_name": "base",
   "language": "python",
   "name": "python3"
  },
  "language_info": {
   "codemirror_mode": {
    "name": "ipython",
    "version": 3
   },
   "file_extension": ".py",
   "mimetype": "text/x-python",
   "name": "python",
   "nbconvert_exporter": "python",
   "pygments_lexer": "ipython3",
   "version": "3.12.4"
  }
 },
 "nbformat": 4,
 "nbformat_minor": 2
}
