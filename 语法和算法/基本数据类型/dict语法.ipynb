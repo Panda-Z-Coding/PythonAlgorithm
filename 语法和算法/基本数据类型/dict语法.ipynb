{
 "cells": [
  {
   "cell_type": "markdown",
   "metadata": {},
   "source": [
    "# 字典\n",
    "- 键值对:   key:value\n",
    "- 唯一对应性\n",
    "- key只能为数字、字符串、元组（不可修改），大多数为字符串\n",
    "- value的类型没有限制\n",
    "- {}表示空字典"
   ]
  },
  {
   "cell_type": "code",
   "execution_count": 2,
   "metadata": {},
   "outputs": [
    {
     "name": "stdout",
     "output_type": "stream",
     "text": [
      "type(a) = <class 'dict'> , type(a1) = <class 'dict'>\n",
      "{'a': 123, 'b': 234, 'c': 345} {'a': 123, 'b': 234, 'c': 345}\n"
     ]
    }
   ],
   "source": [
    "a = dict(a=123,b=234,c=345)\n",
    "a1 = {'a' : 123,'b' : 234,'c' : 345}\n",
    "'''\n",
    "两种方式等价\n",
    "'''\n",
    "print(\"type(a) = {} , type(a1) = {}\".format(type(a), type(a1)))\n",
    "print(a,a1)"
   ]
  },
  {
   "cell_type": "code",
   "execution_count": null,
   "metadata": {},
   "outputs": [],
   "source": []
  },
  {
   "cell_type": "markdown",
   "metadata": {},
   "source": []
  }
 ],
 "metadata": {
  "kernelspec": {
   "display_name": "Python 3",
   "language": "python",
   "name": "python3"
  },
  "language_info": {
   "codemirror_mode": {
    "name": "ipython",
    "version": 3
   },
   "file_extension": ".py",
   "mimetype": "text/x-python",
   "name": "python",
   "nbconvert_exporter": "python",
   "pygments_lexer": "ipython3",
   "version": "3.8.6"
  }
 },
 "nbformat": 4,
 "nbformat_minor": 2
}
