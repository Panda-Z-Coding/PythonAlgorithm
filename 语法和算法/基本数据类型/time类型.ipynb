{
 "cells": [
  {
   "cell_type": "markdown",
   "metadata": {},
   "source": [
    "# 时间与日期\n",
    "\n",
    "## time模块：获取时间戳\n",
    "\n",
    "\n",
    "\n",
    "## datetime类\n",
    "\n",
    "- date：日期\n",
    "- time：时间\n",
    "- datetime：日期时间\n",
    "- timedelta：时间间隔\n",
    "\n",
    "### `data日期类`\n",
    "\n",
    "\n",
    "\n"
   ]
  },
  {
   "cell_type": "code",
   "execution_count": 12,
   "metadata": {},
   "outputs": [
    {
     "name": "stdout",
     "output_type": "stream",
     "text": [
      "type(a) =  <class 'datetime.date'>\n",
      "a =  2024-10-01\n",
      "a.year =  2024\n",
      "a.month =  10\n",
      "a.day =  1\n",
      "a.weekday() =  1\n",
      "<class 'datetime.timedelta'>\n",
      "<class 'datetime.timedelta'>\n",
      "-6 days, 0:00:00\n",
      "6 days, 0:00:00\n",
      "True\n"
     ]
    }
   ],
   "source": [
    "import datetime\n",
    "\n",
    "a = datetime.date(2024,10,1)\n",
    "b = datetime.date(2024,10,7)\n",
    "print(\"type(a) = \",type(a))\n",
    "print(\"a = \",a)\n",
    "print(\"a.year = \",a.year)\n",
    "print(\"a.month = \",a.month)\n",
    "print(\"a.day = \",a.day)\n",
    "\n",
    "#计算周几的内置函数weekday()\n",
    "#0 ~ 6,星期一 ~ 星期六\n",
    "print(\"a.weekday() = \",a.weekday())\n",
    "\n",
    "#日期之间的减法\n",
    "print(type(b - a))\n",
    "print(type(b - a))\n",
    "print(a - b)\n",
    "print(b - a)\n",
    "print(b > a)\n",
    "\n"
   ]
  },
  {
   "cell_type": "markdown",
   "metadata": {},
   "source": [
    "### `time时间类`"
   ]
  },
  {
   "cell_type": "code",
   "execution_count": 15,
   "metadata": {},
   "outputs": [
    {
     "name": "stdout",
     "output_type": "stream",
     "text": [
      "type(a) =  <class 'datetime.time'>\n",
      "a =  10:26:30\n",
      "10\n",
      "26\n",
      "30\n",
      "True\n"
     ]
    }
   ],
   "source": [
    " #!定义time：传递时，分，秒\n",
    "import datetime\n",
    "a = datetime.time(10,26,30)\n",
    "print(\"type(a) = \",type(a))\n",
    "print(\"a = \",a)\n",
    "\n",
    " #!获取时间类属性\n",
    "print(a.hour)\n",
    "print(a.minute)\n",
    "print(a.second)\n",
    "\n",
    " #!支持两个time判断\n",
    " #? > < = >= <=\n",
    "b = datetime.time(10,28,45)\n",
    "print(b > a)\n",
    "\n",
    " #TODO:time时间类没有减法！！"
   ]
  },
  {
   "cell_type": "markdown",
   "metadata": {},
   "source": [
    "### `datetime日期时间类`\n",
    "- *前两个类融合起来的东东*"
   ]
  },
  {
   "cell_type": "code",
   "execution_count": 29,
   "metadata": {},
   "outputs": [
    {
     "name": "stdout",
     "output_type": "stream",
     "text": [
      "2024\n",
      "10\n",
      "1\n",
      "22:22:22\n",
      "2024-10-01\n",
      "2024-10-01 22:22:22\n",
      "True\n",
      "0:00:00\n"
     ]
    }
   ],
   "source": [
    "import datetime\n",
    "\n",
    "a = datetime.datetime(2024,10,1,22,22,22)\n",
    "print(a.year)\n",
    "print(a.month)\n",
    "print(a.day)\n",
    "print(a.time()) #这两个是方法\n",
    "print(a.date())\n",
    "\n",
    "b = datetime.date(2024,10,1)\n",
    "c = datetime.time(22,22,22)\n",
    "\n",
    "a1 = datetime.datetime.combine(b, c)\n",
    "print(a1)\n",
    "\n",
    "print(a == a1)\n",
    "print(a - a1)"
   ]
  },
  {
   "cell_type": "code",
   "execution_count": 7,
   "metadata": {},
   "outputs": [
    {
     "name": "stdout",
     "output_type": "stream",
     "text": [
      "14\n"
     ]
    }
   ],
   "source": [
    "'''\n",
    "例题:顺子日期\n",
    "'''\n",
    "import datetime\n",
    "# 定义起始日期和终止日期\n",
    "start = datetime.date(2022,1,1)\n",
    "end = datetime.date(2022,12,31)\n",
    "ans = 0\n",
    "while True:\n",
    "    #遍历日期并且判断\n",
    "    #是否有顺子\n",
    "    \n",
    "    #1.把start转成yyyymmdd格式\n",
    "    now_date = start.strftime(\"%Y%m%d\")\n",
    "    if '012' in now_date or '123' in now_date:\n",
    "        ans += 1\n",
    "    start += datetime.timedelta(days = 1)\n",
    "    \n",
    "    if(start > end):\n",
    "        break\n",
    "    \n",
    "print(ans)"
   ]
  },
  {
   "cell_type": "code",
   "execution_count": null,
   "metadata": {},
   "outputs": [],
   "source": []
  },
  {
   "cell_type": "markdown",
   "metadata": {},
   "source": []
  }
 ],
 "metadata": {
  "kernelspec": {
   "display_name": "Python 3",
   "language": "python",
   "name": "python3"
  },
  "language_info": {
   "codemirror_mode": {
    "name": "ipython",
    "version": 3
   },
   "file_extension": ".py",
   "mimetype": "text/x-python",
   "name": "python",
   "nbconvert_exporter": "python",
   "pygments_lexer": "ipython3",
   "version": "3.8.6"
  }
 },
 "nbformat": 4,
 "nbformat_minor": 2
}
