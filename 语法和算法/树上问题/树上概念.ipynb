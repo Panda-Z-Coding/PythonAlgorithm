{
 "cells": [
  {
   "cell_type": "markdown",
   "id": "599bf4c4",
   "metadata": {},
   "source": [
    "# 树上问题专题复习"
   ]
  },
  {
   "cell_type": "markdown",
   "id": "eacec90c",
   "metadata": {},
   "source": [
    "# 树的定义\n",
    "略\n",
    "\n",
    "# 树的直径\n",
    "## 定义：树上任意两个节点之间`最长`的简单路径\n",
    "\n"
   ]
  },
  {
   "cell_type": "code",
   "execution_count": null,
   "id": "2e601c20",
   "metadata": {
    "vscode": {
     "languageId": "plaintext"
    }
   },
   "outputs": [],
   "source": []
  }
 ],
 "metadata": {
  "language_info": {
   "name": "python"
  }
 },
 "nbformat": 4,
 "nbformat_minor": 5
}
