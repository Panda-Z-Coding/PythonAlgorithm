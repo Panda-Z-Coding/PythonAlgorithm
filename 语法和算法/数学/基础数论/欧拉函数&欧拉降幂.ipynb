{
 "cells": [
  {
   "cell_type": "markdown",
   "metadata": {},
   "source": [
    "# 欧拉函数 \n",
    "\n",
    "- 欧拉函数 phi(n) = 统计有多少个数字i满足:\n",
    "  - 1. i <= n\n",
    "  - 2. gcd(i, n) = 1 -> 互质的\n",
    "\n"
   ]
  },
  {
   "cell_type": "code",
   "execution_count": null,
   "metadata": {},
   "outputs": [
    {
     "name": "stdout",
     "output_type": "stream",
     "text": [
      "4\n"
     ]
    }
   ],
   "source": [
    "# 求出n的所有质因子\n",
    "def enler_phi(n):\n",
    "    # 单个欧拉函数\n",
    "    # phi(n) = n*(p1-1//p1)*(p2-1//p2)*...*(pk-1//pk)\n",
    "    ans = n\n",
    "    m = int(n ** 0.5)\n",
    "    for i in range(2, m + 1): # 枚举到开方即可\n",
    "        if n % i == 0: # i是n的因子\n",
    "            ans = ans * (i - 1) // i # 累乘因子\n",
    "            while n % i == 0: # 唯一分解\n",
    "                n //= i\n",
    "    if n > 1: # 如果有剩余的话，还要在乘一次\n",
    "        ans = ans * (n - 1) // n\n",
    "    return ans \n",
    "\n",
    "print(enler_phi(5), sep) # 质数的平方的欧拉，等于质数的平方减去质数"
   ]
  },
  {
   "cell_type": "code",
   "execution_count": null,
   "metadata": {},
   "outputs": [],
   "source": []
  }
 ],
 "metadata": {
  "kernelspec": {
   "display_name": "Python 3",
   "language": "python",
   "name": "python3"
  },
  "language_info": {
   "codemirror_mode": {
    "name": "ipython",
    "version": 3
   },
   "file_extension": ".py",
   "mimetype": "text/x-python",
   "name": "python",
   "nbconvert_exporter": "python",
   "pygments_lexer": "ipython3",
   "version": "3.8.6"
  }
 },
 "nbformat": 4,
 "nbformat_minor": 2
}
