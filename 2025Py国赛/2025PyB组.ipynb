{
 "cells": [
  {
   "cell_type": "markdown",
   "id": "a5aa2091",
   "metadata": {},
   "source": [
    "# 整张试卷分析和回顾"
   ]
  },
  {
   "cell_type": "markdown",
   "id": "224a588a",
   "metadata": {},
   "source": [
    "## 1. 不同分值"
   ]
  }
 ],
 "metadata": {
  "language_info": {
   "name": "python"
  }
 },
 "nbformat": 4,
 "nbformat_minor": 5
}
